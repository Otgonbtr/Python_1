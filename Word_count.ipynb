{
  "nbformat": 4,
  "nbformat_minor": 0,
  "metadata": {
    "colab": {
      "provenance": [],
      "authorship_tag": "ABX9TyPdZgFeMp8CdyvML9v5i1OT",
      "include_colab_link": true
    },
    "kernelspec": {
      "name": "python3",
      "display_name": "Python 3"
    },
    "language_info": {
      "name": "python"
    }
  },
  "cells": [
    {
      "cell_type": "markdown",
      "metadata": {
        "id": "view-in-github",
        "colab_type": "text"
      },
      "source": [
        "<a href=\"https://colab.research.google.com/github/Otgonbtr/Python_1/blob/main/Word_count.ipynb\" target=\"_parent\"><img src=\"https://colab.research.google.com/assets/colab-badge.svg\" alt=\"Open In Colab\"/></a>"
      ]
    },
    {
      "cell_type": "code",
      "execution_count": 98,
      "metadata": {
        "colab": {
          "base_uri": "https://localhost:8080/"
        },
        "id": "wdcgbMXXY-Ed",
        "outputId": "ad3c5093-c338-454b-f529-94afd0513cd8"
      },
      "outputs": [
        {
          "output_type": "stream",
          "name": "stdout",
          "text": [
            "Davtagdsan ug baihgui bn.\n"
          ]
        }
      ],
      "source": [
        "def Special_character_delete(text, number = False):\n",
        "    list1=['+','/','-','*','@','#','$','%','^','&','|','\\\\','_','(',')','.',',']\n",
        "    if number == True:\n",
        "        list2 =['1','2','3','4','5','6','7','8','9','0']\n",
        "        list1 = list1+list2 \n",
        "    translation=text.maketrans({i:\"\" for i in list1})\n",
        "    text=text.translate(translation) \n",
        "    return text\n",
        "\n",
        "def Count_word(text):\n",
        "  from collections import Counter\n",
        "  text = Special_character_delete(text, number=True)\n",
        "  text = text.split(\" \")                 #text-iig ug ugeern sagan listed hadgalna.\n",
        "  text_count = Counter(text)             #text-d baigaa buh ugiig heden shirheg baigaag toolno.\n",
        "  text_count = text_count.most_common()  #Counter classaas list-ruu convert hiih.\n",
        "  if text_count[0][1] > 1:\n",
        "    print('Hamgiin ih davtagdsan ug ni: {}'.format(text_count[0][0]))\n",
        "    print('Davtagdsan too: {}'.format(text_count[0][1]))\n",
        "  else: \n",
        "    print('Davtagdsan ug baihgui bn.')\n",
        "    \n",
        "\n",
        "\n",
        "text = \"@%^Sa23456in bai##na uu? na7890maig Otgo*&^nbaat&%$ar ge#$deg. Bi Mon&^gol ulsii5678n ih surguulid \\\n",
        "suljee34nii eng6789ineer mergjil567eer surdag.\"\n",
        "Count_word(text)"
      ]
    }
  ]
}