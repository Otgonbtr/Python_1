{
  "nbformat": 4,
  "nbformat_minor": 0,
  "metadata": {
    "colab": {
      "provenance": [],
      "authorship_tag": "ABX9TyNajYGb+0coqCxLddZ+PCzs",
      "include_colab_link": true
    },
    "kernelspec": {
      "name": "python3",
      "display_name": "Python 3"
    },
    "language_info": {
      "name": "python"
    }
  },
  "cells": [
    {
      "cell_type": "markdown",
      "metadata": {
        "id": "view-in-github",
        "colab_type": "text"
      },
      "source": [
        "<a href=\"https://colab.research.google.com/github/Otgonbtr/Python_1/blob/main/Spacial_character_delete.ipynb\" target=\"_parent\"><img src=\"https://colab.research.google.com/assets/colab-badge.svg\" alt=\"Open In Colab\"/></a>"
      ]
    },
    {
      "cell_type": "code",
      "source": [
        "def special_character_delete(text, number = False):\n",
        "    ''' \n",
        "    argumentd orj irsen text-iin tusgai temdegtiign arilgah function.\n",
        "    argument number=True gej ugvul text-d baiga toog mun arilgana.\n",
        "\n",
        "    Body\n",
        "    -----------------------------------------------\n",
        "    list1: tusgai temdegt hadgalna\n",
        "    number=True bol list1-d toon temdegtiig nemne.\n",
        "    maketrans(): ymar temdegtiig ymar temdegteer solih ve gsn husnegt uusgeh.\n",
        "    tranlate(): maketrans()-aar uusegsen husnegt ashiglan solih uildel hiine. \n",
        "    -----------------------------------------------\n",
        "    return\n",
        "    -------------------------\n",
        "    string turliin text-iig butsaana.\n",
        "    -------------------------\n",
        "    '''\n",
        "    list1=['+','/','-','*','@','#','$','%','^','&','|','\\\\','_','(',')']\n",
        "    if number == True:\n",
        "        list2 =['1','2','3','4','5','6','7','8','9','0']\n",
        "        list1 = list1+list2 \n",
        "    #maketrans(): make a table showing to remove list1 with \"\" \n",
        "    translation=text.maketrans({i:\"\" for i in list1}) \n",
        "    #applying the table on the string using the translate() \n",
        "    text=text.translate(translation) \n",
        "    return text\n",
        "\n",
        "'''\n",
        "------------------------------------\n",
        "Uusegsen function aa ashiglah heseg.\n",
        "------------------------------------\n",
        "'''\n",
        "text = \"@%^Sa23456in bai##na uu? na7890maig Otgo*&^nbaat&%$ar ge#$deg. Bi Mon&^gol ulsii5678n ih surguulid \\\n",
        "suljee34nii eng6789ineer mergjil567eer surdag surdag.\"\n",
        "print(special_character_delete(text, number=True))\n",
        "\n"
      ],
      "metadata": {
        "colab": {
          "base_uri": "https://localhost:8080/"
        },
        "id": "GmDqKha_cGLR",
        "outputId": "e1366667-b783-4aab-cb56-4a7f872fde55"
      },
      "execution_count": null,
      "outputs": [
        {
          "output_type": "stream",
          "name": "stdout",
          "text": [
            "Sain baina uu? namaig Otgonbaatar gedeg. Bi Mongol ulsiin ih surguulid suljeenii engineer mergjileer surdag surdag.\n"
          ]
        }
      ]
    }
  ]
}